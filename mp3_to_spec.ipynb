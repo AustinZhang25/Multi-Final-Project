{
 "cells": [
  {
   "cell_type": "code",
   "id": "initial_id",
   "metadata": {
    "collapsed": true,
    "ExecuteTime": {
     "end_time": "2025-05-08T19:54:10.375417Z",
     "start_time": "2025-05-08T19:54:10.372821Z"
    }
   },
   "source": [
    "from pathlib import Path\n",
    "import soundfile as sf\n",
    "import librosa\n",
    "import matplotlib.pyplot as plt\n",
    "import numpy as np\n",
    "from tqdm import tqdm"
   ],
   "outputs": [],
   "execution_count": 8
  },
  {
   "metadata": {
    "ExecuteTime": {
     "end_time": "2025-05-08T19:54:20.504648Z",
     "start_time": "2025-05-08T19:54:20.502233Z"
    }
   },
   "cell_type": "code",
   "source": [
    "DATA_PATH = Path(\"data\")\n",
    "SPECTROGRAM_OUTPUT_PATH = Path(\"spectrogram\")\n",
    "\n",
    "TICKS = np.array([31.25, 62.5, 125, 250, 500, 1000, 2000, 4000, 8000])\n",
    "TICK_LABELS = np.array([\"31.25\", \"62.5\", \"125\", \"250\", \"500\", \"1k\", \"2k\", \"4k\", \"8k\"])\n",
    "SAVE_PARAMS = {\"dpi\": 300, \"bbox_inches\": \"tight\", \"transparent\": True}"
   ],
   "id": "41b37decf2bbd05f",
   "outputs": [],
   "execution_count": 9
  },
  {
   "metadata": {
    "ExecuteTime": {
     "end_time": "2025-05-08T19:54:22.048926Z",
     "start_time": "2025-05-08T19:54:22.045755Z"
    }
   },
   "cell_type": "code",
   "source": [
    "def plot_spectrogram(signal, sample_rate, output: Path, fft_size=2048, hop_size=None, window_size=None):\n",
    "    # Compute default parameters\n",
    "    if not window_size:\n",
    "        window_size = fft_size\n",
    "    if not hop_size:\n",
    "        hop_size = fft_size // 4\n",
    "\n",
    "    # Convert audio to digital signal with fft\n",
    "    stft = librosa.stft(signal, n_fft=fft_size, hop_length=hop_size, win_length=window_size, center=False)\n",
    "    spectrogram = np.abs(stft)\n",
    "    spectrogram_db = librosa.amplitude_to_db(spectrogram, ref=np.max)\n",
    "\n",
    "    plt.figure(figsize=(10, 4))\n",
    "    img = librosa.display.specshow(spectrogram_db, sr=sample_rate, x_axis='time', y_axis='log', hop_length=hop_size, cmap = 'inferno')\n",
    "\n",
    "    # Plot settings\n",
    "    plt.xlabel(\"Time (s)\")\n",
    "    plt.ylabel(\"Frequency (Hz)\")\n",
    "    plt.yticks(TICKS, TICK_LABELS)\n",
    "    plt.colorbar(img, format=\"%+2.f dBFS\")\n",
    "\n",
    "    # Save plot\n",
    "    output.parent.mkdir(parents=True, exist_ok=True)\n",
    "    plt.savefig(\n",
    "        output.with_stem(\n",
    "            f\"{output.stem}_spectrogram_win_length={window_size}_hop_length={hop_size}_n_fft={fft_size}\"\n",
    "        ),\n",
    "        **SAVE_PARAMS,\n",
    "    )\n",
    "    plt.close()"
   ],
   "id": "4cbe7adbb48061d2",
   "outputs": [],
   "execution_count": 10
  },
  {
   "metadata": {
    "ExecuteTime": {
     "end_time": "2025-05-08T19:55:59.694695Z",
     "start_time": "2025-05-08T19:54:23.907172Z"
    }
   },
   "cell_type": "code",
   "source": [
    "# Take a small sample of the data set\n",
    "mp3_files = list((DATA_PATH / \"fma_small/000\").rglob('*.mp3'))\n",
    "\n",
    "for mp3_file in tqdm(mp3_files):\n",
    "    # Read mp3 files\n",
    "    signal, sample_rate = sf.read(mp3_file)\n",
    "\n",
    "    # Change 2d stereo to 1d mono\n",
    "    if signal.ndim > 1:\n",
    "        signal = np.mean(signal, axis=1)\n",
    "\n",
    "    # This automatically places the output image in the same folder structure as the data folder.\n",
    "    # Do not edit this line.\n",
    "    spectrolgram_file = SPECTROGRAM_OUTPUT_PATH / mp3_file.with_suffix(\".png\").relative_to(DATA_PATH)\n",
    "\n",
    "    # Plot and save spectrogram\n",
    "    plot_spectrogram(signal, sample_rate, spectrolgram_file)"
   ],
   "id": "9d1f990c0df5358a",
   "outputs": [
    {
     "name": "stderr",
     "output_type": "stream",
     "text": [
      "100%|██████████| 62/62 [01:35<00:00,  1.54s/it]\n"
     ]
    }
   ],
   "execution_count": 11
  },
  {
   "metadata": {},
   "cell_type": "code",
   "outputs": [],
   "execution_count": null,
   "source": "",
   "id": "cdbd91a22647e000"
  }
 ],
 "metadata": {
  "kernelspec": {
   "display_name": "Python 3",
   "language": "python",
   "name": "python3"
  },
  "language_info": {
   "codemirror_mode": {
    "name": "ipython",
    "version": 2
   },
   "file_extension": ".py",
   "mimetype": "text/x-python",
   "name": "python",
   "nbconvert_exporter": "python",
   "pygments_lexer": "ipython2",
   "version": "2.7.6"
  }
 },
 "nbformat": 4,
 "nbformat_minor": 5
}
