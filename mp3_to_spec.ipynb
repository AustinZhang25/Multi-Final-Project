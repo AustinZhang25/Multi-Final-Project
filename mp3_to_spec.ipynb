{
 "cells": [
  {
   "cell_type": "code",
   "id": "initial_id",
   "metadata": {
    "collapsed": true,
    "ExecuteTime": {
     "end_time": "2025-05-08T00:01:44.926630Z",
     "start_time": "2025-05-08T00:01:44.922486Z"
    }
   },
   "source": [
    "from pathlib import Path\n",
    "import soundfile as sf\n",
    "import librosa\n",
    "import matplotlib.pyplot as plt\n",
    "import numpy as np"
   ],
   "outputs": [],
   "execution_count": 20
  },
  {
   "metadata": {
    "ExecuteTime": {
     "end_time": "2025-05-08T00:01:45.000780Z",
     "start_time": "2025-05-08T00:01:44.997521Z"
    }
   },
   "cell_type": "code",
   "source": [
    "DATA_PATH = Path(\"data\")\n",
    "SPECTROGRAM_OUTPUT_PATH = Path(\"spectrogram\")\n",
    "SAVE_PARAMS = {\"dpi\": 300, \"bbox_inches\": \"tight\", \"transparent\": True}\n",
    "\n",
    "TICKS = np.array([31.25, 62.5, 125, 250, 500, 1000, 2000, 4000, 8000])\n",
    "TICK_LABELS = np.array([\"31.25\", \"62.5\", \"125\", \"250\", \"500\", \"1k\", \"2k\", \"4k\", \"8k\"])"
   ],
   "id": "41b37decf2bbd05f",
   "outputs": [],
   "execution_count": 21
  },
  {
   "metadata": {
    "ExecuteTime": {
     "end_time": "2025-05-08T00:01:45.073334Z",
     "start_time": "2025-05-08T00:01:45.068763Z"
    }
   },
   "cell_type": "code",
   "source": [
    "def plot_spectrogram(signal, sample_rate, output: Path, fft_size=2048, hop_size=None, window_size=None):\n",
    "    # Compute default parameters\n",
    "    if not window_size:\n",
    "        window_size = fft_size\n",
    "    if not hop_size:\n",
    "        hop_size = fft_size // 4\n",
    "\n",
    "    # Convert audio to digital signal with fft\n",
    "    stft = librosa.stft(signal, n_fft=fft_size, hop_length=hop_size, win_length=window_size, center=False)\n",
    "    spectrogram = np.abs(stft)\n",
    "    spectrogram_db = librosa.amplitude_to_db(spectrogram, ref=np.max)\n",
    "\n",
    "    plt.figure(figsize=(10, 4))\n",
    "    img = librosa.display.specshow(spectrogram_db, sr=sample_rate, x_axis='time', y_axis='log', hop_length=hop_size, cmap = 'inferno')\n",
    "\n",
    "    # Plot settings\n",
    "    plt.xlabel(\"Time (s)\")\n",
    "    plt.ylabel(\"Frequency (Hz)\")\n",
    "    plt.yticks(TICKS, TICK_LABELS)\n",
    "    plt.colorbar(img, format=\"%+2.f dBFS\")\n",
    "\n",
    "    # Save plot\n",
    "    output.parent.mkdir(parents=True, exist_ok=True)\n",
    "    plt.savefig(\n",
    "        output.with_stem(\n",
    "            f\"{output.stem}_spectrogram_win_length={window_size}_hop_length={hop_size}_n_fft={fft_size}\"\n",
    "        ),\n",
    "        **SAVE_PARAMS,\n",
    "    )\n",
    "    plt.close()"
   ],
   "id": "4cbe7adbb48061d2",
   "outputs": [],
   "execution_count": 22
  },
  {
   "metadata": {
    "ExecuteTime": {
     "end_time": "2025-05-08T00:02:21.957448Z",
     "start_time": "2025-05-08T00:01:45.124511Z"
    }
   },
   "cell_type": "code",
   "source": [
    "signal, sample_rate = sf.read(DATA_PATH / 'sound_to_spec_test.mp3')\n",
    "print(f'Sample rate: {sample_rate}')\n",
    "plot_spectrogram(signal, sample_rate, SPECTROGRAM_OUTPUT_PATH / \"sound_to_spec_test.png\")"
   ],
   "id": "9d1f990c0df5358a",
   "outputs": [
    {
     "name": "stdout",
     "output_type": "stream",
     "text": [
      "Sample rate: 48000\n"
     ]
    }
   ],
   "execution_count": 23
  },
  {
   "metadata": {
    "ExecuteTime": {
     "end_time": "2025-05-08T00:02:21.976822Z",
     "start_time": "2025-05-08T00:02:21.971895Z"
    }
   },
   "cell_type": "code",
   "source": "",
   "id": "1979a02c109c8a57",
   "outputs": [],
   "execution_count": null
  }
 ],
 "metadata": {
  "kernelspec": {
   "display_name": "Python 3",
   "language": "python",
   "name": "python3"
  },
  "language_info": {
   "codemirror_mode": {
    "name": "ipython",
    "version": 2
   },
   "file_extension": ".py",
   "mimetype": "text/x-python",
   "name": "python",
   "nbconvert_exporter": "python",
   "pygments_lexer": "ipython2",
   "version": "2.7.6"
  }
 },
 "nbformat": 4,
 "nbformat_minor": 5
}
