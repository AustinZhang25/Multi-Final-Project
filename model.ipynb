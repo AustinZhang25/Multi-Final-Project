{
 "cells": [
  {
   "cell_type": "code",
   "id": "initial_id",
   "metadata": {
    "collapsed": true,
    "ExecuteTime": {
     "end_time": "2025-05-13T23:58:31.801982Z",
     "start_time": "2025-05-13T23:58:31.737490Z"
    }
   },
   "source": [
    "import os\n",
    "from tqdm import tqdm\n",
    "import numpy as np\n",
    "import tensorflow as tf\n",
    "from pathlib import Path\n",
    "import pandas as pd\n",
    "from tensorflow.keras import layers, models\n",
    "from tensorflow.keras.applications import ResNet50\n",
    "from sklearn.metrics import mean_squared_error\n",
    "from tensorflow.keras.backend import clear_session\n",
    "from tensorflow.keras import Input, Model\n",
    "from tensorflow.keras.layers import Dense, Dropout, GlobalAveragePooling2D, Concatenate\n",
    "from tensorflow.keras.applications import ResNet50\n"
   ],
   "outputs": [],
   "execution_count": 24
  },
  {
   "metadata": {
    "ExecuteTime": {
     "end_time": "2025-05-13T23:58:50.485728Z",
     "start_time": "2025-05-13T23:58:48.454575Z"
    }
   },
   "cell_type": "code",
   "source": [
    "# Clear any previous session\n",
    "clear_session()"
   ],
   "id": "312d6879e9db09ba",
   "outputs": [],
   "execution_count": 25
  },
  {
   "metadata": {
    "ExecuteTime": {
     "end_time": "2025-05-13T23:58:50.798725Z",
     "start_time": "2025-05-13T23:58:50.750397Z"
    }
   },
   "cell_type": "code",
   "source": [
    "# Import labels\n",
    "labels_data = pd.read_csv('data/echonest_norm.csv').values\n",
    "print(f\"Label shape: {labels_data.shape}\")"
   ],
   "id": "38afcfb4fa61d4b",
   "outputs": [
    {
     "name": "stdout",
     "output_type": "stream",
     "text": [
      "Label shape: (13131, 9)\n"
     ]
    }
   ],
   "execution_count": 26
  },
  {
   "metadata": {
    "ExecuteTime": {
     "end_time": "2025-05-13T04:29:28.580828Z",
     "start_time": "2025-05-13T04:29:28.578145Z"
    }
   },
   "cell_type": "code",
   "source": [
    "def attach_label(image_path):\n",
    "    try:\n",
    "        image_id = int(image_path.split(\"/\")[-1].split(\"_\")[0])\n",
    "        label = labels_data[labels_data[:, 0] == image_id, 1:]\n",
    "        if label.shape[0] == 0:\n",
    "            print(f\"No label found for image {image_id}\")\n",
    "            return None\n",
    "        return image_path, label.reshape(-1)\n",
    "    except Exception as e:\n",
    "        print(f\"Error with {image_path}: {e}\")\n",
    "        return None"
   ],
   "id": "f1eebb053d475ade",
   "outputs": [],
   "execution_count": 16
  },
  {
   "metadata": {
    "ExecuteTime": {
     "end_time": "2025-05-13T04:29:29.282005Z",
     "start_time": "2025-05-13T04:29:28.636982Z"
    }
   },
   "cell_type": "code",
   "source": [
    "# Load image paths and labels\n",
    "data_path = Path(\"spectrogram\")\n",
    "all_image_paths = sorted(map(str, data_path.glob(\"**/*.png\")))\n",
    "valid_pairs = list(filter(None, map(attach_label, all_image_paths)))\n",
    "\n",
    "if len(valid_pairs) == 0:\n",
    "    raise ValueError(\"No valid image-label pairs found!\")\n",
    "\n",
    "data_paths, labels = zip(*valid_pairs)"
   ],
   "id": "e2d45aa44a4f35b5",
   "outputs": [],
   "execution_count": 17
  },
  {
   "metadata": {
    "ExecuteTime": {
     "end_time": "2025-05-13T04:29:29.384010Z",
     "start_time": "2025-05-13T04:29:29.293751Z"
    }
   },
   "cell_type": "code",
   "source": [
    "def load_image(image_path, label):\n",
    "    image = tf.io.read_file(image_path)\n",
    "    image = tf.image.decode_png(image, channels=3)\n",
    "    image = tf.image.resize(image, (int(984 / 3), int(2385 / 3)))\n",
    "    image = tf.keras.applications.resnet50.preprocess_input(image)\n",
    "    return image, label\n",
    "\n",
    "# Create dataset\n",
    "dataset = tf.data.Dataset.from_tensor_slices((list(data_paths), list(labels)))\n",
    "dataset = dataset.map(load_image, num_parallel_calls=tf.data.AUTOTUNE)\n",
    "\n",
    "# Shuffle and split dataset\n",
    "train_size = int(0.8 * len(data_paths))\n",
    "train_dataset = dataset.take(train_size).batch(4).prefetch(tf.data.AUTOTUNE)\n",
    "val_dataset = dataset.skip(train_size).batch(4).prefetch(tf.data.AUTOTUNE)"
   ],
   "id": "5c54bb6145074939",
   "outputs": [],
   "execution_count": 18
  },
  {
   "metadata": {
    "ExecuteTime": {
     "end_time": "2025-05-13T04:29:29.397985Z",
     "start_time": "2025-05-13T04:29:29.395661Z"
    }
   },
   "cell_type": "code",
   "source": [
    "def combined_mse_cosine_loss(y_true, y_pred):\n",
    "    mse = tf.reduce_mean(tf.square(y_true - y_pred))\n",
    "    y_true_norm = tf.nn.l2_normalize(y_true, axis=1)\n",
    "    y_pred_norm = tf.nn.l2_normalize(y_pred, axis=1)\n",
    "    cosine_loss = 1 - tf.reduce_mean(tf.reduce_sum(y_true_norm * y_pred_norm, axis=1))\n",
    "    return mse + 0.3 * cosine_loss"
   ],
   "id": "e2473d86804ccffa",
   "outputs": [],
   "execution_count": 19
  },
  {
   "metadata": {
    "ExecuteTime": {
     "end_time": "2025-05-14T00:09:03.203281Z",
     "start_time": "2025-05-13T23:58:57.593414Z"
    }
   },
   "cell_type": "code",
   "source": [
    "# Build model\n",
    "clear_session()\n",
    "\n",
    "# Base model\n",
    "base_model = ResNet50(weights='imagenet', include_top=False, input_shape=(328, 795, 3))  # 984/3 = 328, 2385/3 = 795\n",
    "base_model.trainable = False\n",
    "\n",
    "# Input\n",
    "inputs = Input(shape=(328, 795, 3))\n",
    "x = base_model(inputs, training=False)\n",
    "x = GlobalAveragePooling2D()(x)\n",
    "x = Dense(256, activation='relu')(x)\n",
    "x = Dropout(0.3)(x)\n",
    "\n",
    "# Branch 1: acousticness, instrumentalness, liveness, speechiness\n",
    "content_output = Dense(4, name='content_output')(x)\n",
    "\n",
    "# Branch 2: danceability, energy, tempo, valence\n",
    "feel_output = Dense(4, name='feel_output')(x)\n",
    "\n",
    "# Concatenate final output\n",
    "final_output = Concatenate(name='combined_output')([content_output, feel_output])\n",
    "\n",
    "# Build model\n",
    "model = Model(inputs, final_output)\n",
    "\n",
    "base_model.trainable = False\n",
    "model.compile(optimizer='adam', loss=combined_mse_cosine_loss, metrics=['mae'])\n",
    "model.summary()\n",
    "\n",
    "try:\n",
    "    with tf.device('/device:GPU:0'):\n",
    "        model.fit(train_dataset, validation_data=val_dataset, epochs=5)\n",
    "except Exception as e:\n",
    "    print(f\"Training failed: {e}\")\n",
    "    exit(1)"
   ],
   "id": "2f731d553509cf3e",
   "outputs": [
    {
     "data": {
      "text/plain": [
       "\u001B[1mModel: \"functional\"\u001B[0m\n"
      ],
      "text/html": [
       "<pre style=\"white-space:pre;overflow-x:auto;line-height:normal;font-family:Menlo,'DejaVu Sans Mono',consolas,'Courier New',monospace\"><span style=\"font-weight: bold\">Model: \"functional\"</span>\n",
       "</pre>\n"
      ]
     },
     "metadata": {},
     "output_type": "display_data"
    },
    {
     "data": {
      "text/plain": [
       "┏━━━━━━━━━━━━━━━━━━━━━┳━━━━━━━━━━━━━━━━━━━┳━━━━━━━━━━━━┳━━━━━━━━━━━━━━━━━━━┓\n",
       "┃\u001B[1m \u001B[0m\u001B[1mLayer (type)       \u001B[0m\u001B[1m \u001B[0m┃\u001B[1m \u001B[0m\u001B[1mOutput Shape     \u001B[0m\u001B[1m \u001B[0m┃\u001B[1m \u001B[0m\u001B[1m   Param #\u001B[0m\u001B[1m \u001B[0m┃\u001B[1m \u001B[0m\u001B[1mConnected to     \u001B[0m\u001B[1m \u001B[0m┃\n",
       "┡━━━━━━━━━━━━━━━━━━━━━╇━━━━━━━━━━━━━━━━━━━╇━━━━━━━━━━━━╇━━━━━━━━━━━━━━━━━━━┩\n",
       "│ input_layer_1       │ (\u001B[38;5;45mNone\u001B[0m, \u001B[38;5;34m328\u001B[0m, \u001B[38;5;34m795\u001B[0m,  │          \u001B[38;5;34m0\u001B[0m │ -                 │\n",
       "│ (\u001B[38;5;33mInputLayer\u001B[0m)        │ \u001B[38;5;34m3\u001B[0m)                │            │                   │\n",
       "├─────────────────────┼───────────────────┼────────────┼───────────────────┤\n",
       "│ resnet50            │ (\u001B[38;5;45mNone\u001B[0m, \u001B[38;5;34m11\u001B[0m, \u001B[38;5;34m25\u001B[0m,    │ \u001B[38;5;34m23,587,712\u001B[0m │ input_layer_1[\u001B[38;5;34m0\u001B[0m]… │\n",
       "│ (\u001B[38;5;33mFunctional\u001B[0m)        │ \u001B[38;5;34m2048\u001B[0m)             │            │                   │\n",
       "├─────────────────────┼───────────────────┼────────────┼───────────────────┤\n",
       "│ global_average_poo… │ (\u001B[38;5;45mNone\u001B[0m, \u001B[38;5;34m2048\u001B[0m)      │          \u001B[38;5;34m0\u001B[0m │ resnet50[\u001B[38;5;34m0\u001B[0m][\u001B[38;5;34m0\u001B[0m]    │\n",
       "│ (\u001B[38;5;33mGlobalAveragePool…\u001B[0m │                   │            │                   │\n",
       "├─────────────────────┼───────────────────┼────────────┼───────────────────┤\n",
       "│ dense (\u001B[38;5;33mDense\u001B[0m)       │ (\u001B[38;5;45mNone\u001B[0m, \u001B[38;5;34m256\u001B[0m)       │    \u001B[38;5;34m524,544\u001B[0m │ global_average_p… │\n",
       "├─────────────────────┼───────────────────┼────────────┼───────────────────┤\n",
       "│ dropout (\u001B[38;5;33mDropout\u001B[0m)   │ (\u001B[38;5;45mNone\u001B[0m, \u001B[38;5;34m256\u001B[0m)       │          \u001B[38;5;34m0\u001B[0m │ dense[\u001B[38;5;34m0\u001B[0m][\u001B[38;5;34m0\u001B[0m]       │\n",
       "├─────────────────────┼───────────────────┼────────────┼───────────────────┤\n",
       "│ content_output      │ (\u001B[38;5;45mNone\u001B[0m, \u001B[38;5;34m4\u001B[0m)         │      \u001B[38;5;34m1,028\u001B[0m │ dropout[\u001B[38;5;34m0\u001B[0m][\u001B[38;5;34m0\u001B[0m]     │\n",
       "│ (\u001B[38;5;33mDense\u001B[0m)             │                   │            │                   │\n",
       "├─────────────────────┼───────────────────┼────────────┼───────────────────┤\n",
       "│ feel_output (\u001B[38;5;33mDense\u001B[0m) │ (\u001B[38;5;45mNone\u001B[0m, \u001B[38;5;34m4\u001B[0m)         │      \u001B[38;5;34m1,028\u001B[0m │ dropout[\u001B[38;5;34m0\u001B[0m][\u001B[38;5;34m0\u001B[0m]     │\n",
       "├─────────────────────┼───────────────────┼────────────┼───────────────────┤\n",
       "│ combined_output     │ (\u001B[38;5;45mNone\u001B[0m, \u001B[38;5;34m8\u001B[0m)         │          \u001B[38;5;34m0\u001B[0m │ content_output[\u001B[38;5;34m0\u001B[0m… │\n",
       "│ (\u001B[38;5;33mConcatenate\u001B[0m)       │                   │            │ feel_output[\u001B[38;5;34m0\u001B[0m][\u001B[38;5;34m0\u001B[0m] │\n",
       "└─────────────────────┴───────────────────┴────────────┴───────────────────┘\n"
      ],
      "text/html": [
       "<pre style=\"white-space:pre;overflow-x:auto;line-height:normal;font-family:Menlo,'DejaVu Sans Mono',consolas,'Courier New',monospace\">┏━━━━━━━━━━━━━━━━━━━━━┳━━━━━━━━━━━━━━━━━━━┳━━━━━━━━━━━━┳━━━━━━━━━━━━━━━━━━━┓\n",
       "┃<span style=\"font-weight: bold\"> Layer (type)        </span>┃<span style=\"font-weight: bold\"> Output Shape      </span>┃<span style=\"font-weight: bold\">    Param # </span>┃<span style=\"font-weight: bold\"> Connected to      </span>┃\n",
       "┡━━━━━━━━━━━━━━━━━━━━━╇━━━━━━━━━━━━━━━━━━━╇━━━━━━━━━━━━╇━━━━━━━━━━━━━━━━━━━┩\n",
       "│ input_layer_1       │ (<span style=\"color: #00d7ff; text-decoration-color: #00d7ff\">None</span>, <span style=\"color: #00af00; text-decoration-color: #00af00\">328</span>, <span style=\"color: #00af00; text-decoration-color: #00af00\">795</span>,  │          <span style=\"color: #00af00; text-decoration-color: #00af00\">0</span> │ -                 │\n",
       "│ (<span style=\"color: #0087ff; text-decoration-color: #0087ff\">InputLayer</span>)        │ <span style=\"color: #00af00; text-decoration-color: #00af00\">3</span>)                │            │                   │\n",
       "├─────────────────────┼───────────────────┼────────────┼───────────────────┤\n",
       "│ resnet50            │ (<span style=\"color: #00d7ff; text-decoration-color: #00d7ff\">None</span>, <span style=\"color: #00af00; text-decoration-color: #00af00\">11</span>, <span style=\"color: #00af00; text-decoration-color: #00af00\">25</span>,    │ <span style=\"color: #00af00; text-decoration-color: #00af00\">23,587,712</span> │ input_layer_1[<span style=\"color: #00af00; text-decoration-color: #00af00\">0</span>]… │\n",
       "│ (<span style=\"color: #0087ff; text-decoration-color: #0087ff\">Functional</span>)        │ <span style=\"color: #00af00; text-decoration-color: #00af00\">2048</span>)             │            │                   │\n",
       "├─────────────────────┼───────────────────┼────────────┼───────────────────┤\n",
       "│ global_average_poo… │ (<span style=\"color: #00d7ff; text-decoration-color: #00d7ff\">None</span>, <span style=\"color: #00af00; text-decoration-color: #00af00\">2048</span>)      │          <span style=\"color: #00af00; text-decoration-color: #00af00\">0</span> │ resnet50[<span style=\"color: #00af00; text-decoration-color: #00af00\">0</span>][<span style=\"color: #00af00; text-decoration-color: #00af00\">0</span>]    │\n",
       "│ (<span style=\"color: #0087ff; text-decoration-color: #0087ff\">GlobalAveragePool…</span> │                   │            │                   │\n",
       "├─────────────────────┼───────────────────┼────────────┼───────────────────┤\n",
       "│ dense (<span style=\"color: #0087ff; text-decoration-color: #0087ff\">Dense</span>)       │ (<span style=\"color: #00d7ff; text-decoration-color: #00d7ff\">None</span>, <span style=\"color: #00af00; text-decoration-color: #00af00\">256</span>)       │    <span style=\"color: #00af00; text-decoration-color: #00af00\">524,544</span> │ global_average_p… │\n",
       "├─────────────────────┼───────────────────┼────────────┼───────────────────┤\n",
       "│ dropout (<span style=\"color: #0087ff; text-decoration-color: #0087ff\">Dropout</span>)   │ (<span style=\"color: #00d7ff; text-decoration-color: #00d7ff\">None</span>, <span style=\"color: #00af00; text-decoration-color: #00af00\">256</span>)       │          <span style=\"color: #00af00; text-decoration-color: #00af00\">0</span> │ dense[<span style=\"color: #00af00; text-decoration-color: #00af00\">0</span>][<span style=\"color: #00af00; text-decoration-color: #00af00\">0</span>]       │\n",
       "├─────────────────────┼───────────────────┼────────────┼───────────────────┤\n",
       "│ content_output      │ (<span style=\"color: #00d7ff; text-decoration-color: #00d7ff\">None</span>, <span style=\"color: #00af00; text-decoration-color: #00af00\">4</span>)         │      <span style=\"color: #00af00; text-decoration-color: #00af00\">1,028</span> │ dropout[<span style=\"color: #00af00; text-decoration-color: #00af00\">0</span>][<span style=\"color: #00af00; text-decoration-color: #00af00\">0</span>]     │\n",
       "│ (<span style=\"color: #0087ff; text-decoration-color: #0087ff\">Dense</span>)             │                   │            │                   │\n",
       "├─────────────────────┼───────────────────┼────────────┼───────────────────┤\n",
       "│ feel_output (<span style=\"color: #0087ff; text-decoration-color: #0087ff\">Dense</span>) │ (<span style=\"color: #00d7ff; text-decoration-color: #00d7ff\">None</span>, <span style=\"color: #00af00; text-decoration-color: #00af00\">4</span>)         │      <span style=\"color: #00af00; text-decoration-color: #00af00\">1,028</span> │ dropout[<span style=\"color: #00af00; text-decoration-color: #00af00\">0</span>][<span style=\"color: #00af00; text-decoration-color: #00af00\">0</span>]     │\n",
       "├─────────────────────┼───────────────────┼────────────┼───────────────────┤\n",
       "│ combined_output     │ (<span style=\"color: #00d7ff; text-decoration-color: #00d7ff\">None</span>, <span style=\"color: #00af00; text-decoration-color: #00af00\">8</span>)         │          <span style=\"color: #00af00; text-decoration-color: #00af00\">0</span> │ content_output[<span style=\"color: #00af00; text-decoration-color: #00af00\">0</span>… │\n",
       "│ (<span style=\"color: #0087ff; text-decoration-color: #0087ff\">Concatenate</span>)       │                   │            │ feel_output[<span style=\"color: #00af00; text-decoration-color: #00af00\">0</span>][<span style=\"color: #00af00; text-decoration-color: #00af00\">0</span>] │\n",
       "└─────────────────────┴───────────────────┴────────────┴───────────────────┘\n",
       "</pre>\n"
      ]
     },
     "metadata": {},
     "output_type": "display_data"
    },
    {
     "data": {
      "text/plain": [
       "\u001B[1m Total params: \u001B[0m\u001B[38;5;34m24,114,312\u001B[0m (91.99 MB)\n"
      ],
      "text/html": [
       "<pre style=\"white-space:pre;overflow-x:auto;line-height:normal;font-family:Menlo,'DejaVu Sans Mono',consolas,'Courier New',monospace\"><span style=\"font-weight: bold\"> Total params: </span><span style=\"color: #00af00; text-decoration-color: #00af00\">24,114,312</span> (91.99 MB)\n",
       "</pre>\n"
      ]
     },
     "metadata": {},
     "output_type": "display_data"
    },
    {
     "data": {
      "text/plain": [
       "\u001B[1m Trainable params: \u001B[0m\u001B[38;5;34m526,600\u001B[0m (2.01 MB)\n"
      ],
      "text/html": [
       "<pre style=\"white-space:pre;overflow-x:auto;line-height:normal;font-family:Menlo,'DejaVu Sans Mono',consolas,'Courier New',monospace\"><span style=\"font-weight: bold\"> Trainable params: </span><span style=\"color: #00af00; text-decoration-color: #00af00\">526,600</span> (2.01 MB)\n",
       "</pre>\n"
      ]
     },
     "metadata": {},
     "output_type": "display_data"
    },
    {
     "data": {
      "text/plain": [
       "\u001B[1m Non-trainable params: \u001B[0m\u001B[38;5;34m23,587,712\u001B[0m (89.98 MB)\n"
      ],
      "text/html": [
       "<pre style=\"white-space:pre;overflow-x:auto;line-height:normal;font-family:Menlo,'DejaVu Sans Mono',consolas,'Courier New',monospace\"><span style=\"font-weight: bold\"> Non-trainable params: </span><span style=\"color: #00af00; text-decoration-color: #00af00\">23,587,712</span> (89.98 MB)\n",
       "</pre>\n"
      ]
     },
     "metadata": {},
     "output_type": "display_data"
    },
    {
     "name": "stdout",
     "output_type": "stream",
     "text": [
      "Epoch 1/5\n",
      "\u001B[1m2625/2625\u001B[0m \u001B[32m━━━━━━━━━━━━━━━━━━━━\u001B[0m\u001B[37m\u001B[0m \u001B[1m129s\u001B[0m 47ms/step - loss: 0.1561 - mae: 0.2332 - val_loss: 0.1067 - val_mae: 0.1894\n",
      "Epoch 2/5\n",
      "\u001B[1m2625/2625\u001B[0m \u001B[32m━━━━━━━━━━━━━━━━━━━━\u001B[0m\u001B[37m\u001B[0m \u001B[1m119s\u001B[0m 45ms/step - loss: 0.0791 - mae: 0.1705 - val_loss: 0.1155 - val_mae: 0.1955\n",
      "Epoch 3/5\n",
      "\u001B[1m2625/2625\u001B[0m \u001B[32m━━━━━━━━━━━━━━━━━━━━\u001B[0m\u001B[37m\u001B[0m \u001B[1m120s\u001B[0m 46ms/step - loss: 0.0762 - mae: 0.1675 - val_loss: 0.1217 - val_mae: 0.1966\n",
      "Epoch 4/5\n",
      "\u001B[1m2625/2625\u001B[0m \u001B[32m━━━━━━━━━━━━━━━━━━━━\u001B[0m\u001B[37m\u001B[0m \u001B[1m119s\u001B[0m 45ms/step - loss: 0.0754 - mae: 0.1666 - val_loss: 0.1156 - val_mae: 0.1958\n",
      "Epoch 5/5\n",
      "\u001B[1m2625/2625\u001B[0m \u001B[32m━━━━━━━━━━━━━━━━━━━━\u001B[0m\u001B[37m\u001B[0m \u001B[1m117s\u001B[0m 45ms/step - loss: 0.0746 - mae: 0.1659 - val_loss: 0.1196 - val_mae: 0.1962\n"
     ]
    }
   ],
   "execution_count": 27
  },
  {
   "metadata": {
    "ExecuteTime": {
     "end_time": "2025-05-14T00:42:41.503968Z",
     "start_time": "2025-05-14T00:11:11.486152Z"
    }
   },
   "cell_type": "code",
   "source": [
    "base_model.trainable = True\n",
    "for layer in base_model.layers[:100]:\n",
    "    layer.trainable = False  # Keep early layers frozen\n",
    "model.compile(optimizer=tf.keras.optimizers.Adam(1e-5), loss=combined_mse_cosine_loss, metrics=['mae'])\n",
    "\n",
    "try:\n",
    "    with tf.device('/device:GPU:0'):\n",
    "        model.fit(train_dataset, validation_data=val_dataset, epochs=10)\n",
    "except Exception as e:\n",
    "    print(f\"Training failed: {e}\")\n",
    "    exit(1)"
   ],
   "id": "d7571578bded608e",
   "outputs": [
    {
     "name": "stdout",
     "output_type": "stream",
     "text": [
      "Epoch 1/10\n",
      "\u001B[1m2625/2625\u001B[0m \u001B[32m━━━━━━━━━━━━━━━━━━━━\u001B[0m\u001B[37m\u001B[0m \u001B[1m207s\u001B[0m 74ms/step - loss: 0.0871 - mae: 0.1814 - val_loss: 0.1232 - val_mae: 0.1963\n",
      "Epoch 2/10\n",
      "\u001B[1m2625/2625\u001B[0m \u001B[32m━━━━━━━━━━━━━━━━━━━━\u001B[0m\u001B[37m\u001B[0m \u001B[1m188s\u001B[0m 72ms/step - loss: 0.0697 - mae: 0.1614 - val_loss: 0.1186 - val_mae: 0.1937\n",
      "Epoch 3/10\n",
      "\u001B[1m2625/2625\u001B[0m \u001B[32m━━━━━━━━━━━━━━━━━━━━\u001B[0m\u001B[37m\u001B[0m \u001B[1m190s\u001B[0m 72ms/step - loss: 0.0627 - mae: 0.1530 - val_loss: 0.1148 - val_mae: 0.1889\n",
      "Epoch 4/10\n",
      "\u001B[1m2625/2625\u001B[0m \u001B[32m━━━━━━━━━━━━━━━━━━━━\u001B[0m\u001B[37m\u001B[0m \u001B[1m183s\u001B[0m 70ms/step - loss: 0.0590 - mae: 0.1483 - val_loss: 0.1129 - val_mae: 0.1868\n",
      "Epoch 5/10\n",
      "\u001B[1m2625/2625\u001B[0m \u001B[32m━━━━━━━━━━━━━━━━━━━━\u001B[0m\u001B[37m\u001B[0m \u001B[1m187s\u001B[0m 71ms/step - loss: 0.0542 - mae: 0.1416 - val_loss: 0.1072 - val_mae: 0.1824\n",
      "Epoch 6/10\n",
      "\u001B[1m2625/2625\u001B[0m \u001B[32m━━━━━━━━━━━━━━━━━━━━\u001B[0m\u001B[37m\u001B[0m \u001B[1m187s\u001B[0m 71ms/step - loss: 0.0524 - mae: 0.1387 - val_loss: 0.1028 - val_mae: 0.1797\n",
      "Epoch 7/10\n",
      "\u001B[1m2625/2625\u001B[0m \u001B[32m━━━━━━━━━━━━━━━━━━━━\u001B[0m\u001B[37m\u001B[0m \u001B[1m183s\u001B[0m 70ms/step - loss: 0.0501 - mae: 0.1354 - val_loss: 0.1043 - val_mae: 0.1787\n",
      "Epoch 8/10\n",
      "\u001B[1m2625/2625\u001B[0m \u001B[32m━━━━━━━━━━━━━━━━━━━━\u001B[0m\u001B[37m\u001B[0m \u001B[1m191s\u001B[0m 73ms/step - loss: 0.0486 - mae: 0.1328 - val_loss: 0.1090 - val_mae: 0.1819\n",
      "Epoch 9/10\n",
      "\u001B[1m2625/2625\u001B[0m \u001B[32m━━━━━━━━━━━━━━━━━━━━\u001B[0m\u001B[37m\u001B[0m \u001B[1m189s\u001B[0m 72ms/step - loss: 0.0466 - mae: 0.1299 - val_loss: 0.1088 - val_mae: 0.1805\n",
      "Epoch 10/10\n",
      "\u001B[1m2625/2625\u001B[0m \u001B[32m━━━━━━━━━━━━━━━━━━━━\u001B[0m\u001B[37m\u001B[0m \u001B[1m186s\u001B[0m 71ms/step - loss: 0.0458 - mae: 0.1283 - val_loss: 0.1042 - val_mae: 0.1782\n"
     ]
    }
   ],
   "execution_count": 28
  },
  {
   "metadata": {
    "ExecuteTime": {
     "end_time": "2025-05-14T00:45:20.448668Z",
     "start_time": "2025-05-14T00:44:09.352818Z"
    }
   },
   "cell_type": "code",
   "source": [
    "# Save results\n",
    "y_test = []\n",
    "y_pred = []\n",
    "for images, batch_labels in tqdm(val_dataset):\n",
    "    y_test.append(batch_labels.numpy())\n",
    "    y_pred.append(model.predict(images, verbose=0))\n",
    "y_test = np.concatenate(y_test, axis=0)\n",
    "y_pred = np.concatenate(y_pred, axis=0)\n",
    "\n",
    "# Create data frame with interleaved y_test and y_pred columns\n",
    "data = {}\n",
    "for i in range(y_test.shape[1]):\n",
    "    data[f'y_test_{i}'] = y_test[:, i]\n",
    "    data[f'y_pred_{i}'] = y_pred[:, i]\n",
    "df = pd.DataFrame(data)\n",
    "df.to_csv(\"data/evaluate.csv\", index=False)\n",
    "\n",
    "# Report MSE\n",
    "mse = mean_squared_error(y_test, y_pred)\n",
    "print(f\"Mean squared error: {mse}\")"
   ],
   "id": "f6c4c2014a8d0b93",
   "outputs": [
    {
     "name": "stderr",
     "output_type": "stream",
     "text": [
      "100%|██████████| 657/657 [01:11<00:00,  9.25it/s] "
     ]
    },
    {
     "name": "stdout",
     "output_type": "stream",
     "text": [
      "Mean squared error: 0.06301725984859978\n"
     ]
    },
    {
     "name": "stderr",
     "output_type": "stream",
     "text": [
      "\n"
     ]
    }
   ],
   "execution_count": 29
  },
  {
   "metadata": {
    "ExecuteTime": {
     "end_time": "2025-05-13T05:12:10.646127Z",
     "start_time": "2025-05-13T05:12:09.501760Z"
    }
   },
   "cell_type": "code",
   "source": [
    "# Save the model\n",
    "model.save(\"models/resnet50.keras\")"
   ],
   "id": "2e6f3fc9441def8e",
   "outputs": [],
   "execution_count": 23
  },
  {
   "metadata": {
    "ExecuteTime": {
     "end_time": "2025-05-13T05:12:10.659622Z",
     "start_time": "2025-05-13T05:12:10.657973Z"
    }
   },
   "cell_type": "code",
   "source": "",
   "id": "462b178d0277d865",
   "outputs": [],
   "execution_count": null
  }
 ],
 "metadata": {
  "kernelspec": {
   "display_name": "Python 3",
   "language": "python",
   "name": "python3"
  },
  "language_info": {
   "codemirror_mode": {
    "name": "ipython",
    "version": 2
   },
   "file_extension": ".py",
   "mimetype": "text/x-python",
   "name": "python",
   "nbconvert_exporter": "python",
   "pygments_lexer": "ipython2",
   "version": "2.7.6"
  }
 },
 "nbformat": 4,
 "nbformat_minor": 5
}
