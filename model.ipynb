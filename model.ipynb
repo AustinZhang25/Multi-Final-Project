{
 "cells": [
  {
   "cell_type": "code",
   "id": "initial_id",
   "metadata": {
    "collapsed": true,
    "ExecuteTime": {
     "end_time": "2025-05-13T04:29:28.155386Z",
     "start_time": "2025-05-13T04:29:28.151531Z"
    }
   },
   "source": [
    "import os\n",
    "from tqdm import tqdm\n",
    "import numpy as np\n",
    "import tensorflow as tf\n",
    "from pathlib import Path\n",
    "import pandas as pd\n",
    "from tensorflow.keras import layers, models\n",
    "from tensorflow.keras.applications import ResNet50\n",
    "from sklearn.metrics import mean_squared_error\n",
    "from tensorflow.keras.backend import clear_session"
   ],
   "outputs": [],
   "execution_count": 13
  },
  {
   "metadata": {
    "ExecuteTime": {
     "end_time": "2025-05-13T04:29:28.506143Z",
     "start_time": "2025-05-13T04:29:28.176497Z"
    }
   },
   "cell_type": "code",
   "source": [
    "# Clear any previous session\n",
    "clear_session()"
   ],
   "id": "312d6879e9db09ba",
   "outputs": [],
   "execution_count": 14
  },
  {
   "metadata": {
    "ExecuteTime": {
     "end_time": "2025-05-13T04:29:28.548612Z",
     "start_time": "2025-05-13T04:29:28.526161Z"
    }
   },
   "cell_type": "code",
   "source": [
    "# Import labels\n",
    "labels_data = pd.read_csv('data/echonest_norm.csv').values\n",
    "print(f\"Label shape: {labels_data.shape}\")"
   ],
   "id": "38afcfb4fa61d4b",
   "outputs": [
    {
     "name": "stdout",
     "output_type": "stream",
     "text": [
      "Label shape: (13131, 9)\n"
     ]
    }
   ],
   "execution_count": 15
  },
  {
   "metadata": {
    "ExecuteTime": {
     "end_time": "2025-05-13T04:29:28.580828Z",
     "start_time": "2025-05-13T04:29:28.578145Z"
    }
   },
   "cell_type": "code",
   "source": [
    "def attach_label(image_path):\n",
    "    try:\n",
    "        image_id = int(image_path.split(\"/\")[-1].split(\"_\")[0])\n",
    "        label = labels_data[labels_data[:, 0] == image_id, 1:]\n",
    "        if label.shape[0] == 0:\n",
    "            print(f\"No label found for image {image_id}\")\n",
    "            return None\n",
    "        return image_path, label.reshape(-1)\n",
    "    except Exception as e:\n",
    "        print(f\"Error with {image_path}: {e}\")\n",
    "        return None"
   ],
   "id": "f1eebb053d475ade",
   "outputs": [],
   "execution_count": 16
  },
  {
   "metadata": {
    "ExecuteTime": {
     "end_time": "2025-05-13T04:29:29.282005Z",
     "start_time": "2025-05-13T04:29:28.636982Z"
    }
   },
   "cell_type": "code",
   "source": [
    "# Load image paths and labels\n",
    "data_path = Path(\"spectrogram\")\n",
    "all_image_paths = sorted(map(str, data_path.glob(\"**/*.png\")))\n",
    "valid_pairs = list(filter(None, map(attach_label, all_image_paths)))\n",
    "\n",
    "if len(valid_pairs) == 0:\n",
    "    raise ValueError(\"No valid image-label pairs found!\")\n",
    "\n",
    "data_paths, labels = zip(*valid_pairs)"
   ],
   "id": "e2d45aa44a4f35b5",
   "outputs": [],
   "execution_count": 17
  },
  {
   "metadata": {
    "ExecuteTime": {
     "end_time": "2025-05-13T04:29:29.384010Z",
     "start_time": "2025-05-13T04:29:29.293751Z"
    }
   },
   "cell_type": "code",
   "source": [
    "def load_image(image_path, label):\n",
    "    image = tf.io.read_file(image_path)\n",
    "    image = tf.image.decode_png(image, channels=3)\n",
    "    image = tf.image.resize(image, (int(984 / 3), int(2385 / 3)))\n",
    "    image = tf.keras.applications.resnet50.preprocess_input(image)\n",
    "    return image, label\n",
    "\n",
    "# Create dataset\n",
    "dataset = tf.data.Dataset.from_tensor_slices((list(data_paths), list(labels)))\n",
    "dataset = dataset.map(load_image, num_parallel_calls=tf.data.AUTOTUNE)\n",
    "\n",
    "# Shuffle and split dataset\n",
    "train_size = int(0.8 * len(data_paths))\n",
    "train_dataset = dataset.take(train_size).batch(4).prefetch(tf.data.AUTOTUNE)\n",
    "val_dataset = dataset.skip(train_size).batch(4).prefetch(tf.data.AUTOTUNE)"
   ],
   "id": "5c54bb6145074939",
   "outputs": [],
   "execution_count": 18
  },
  {
   "metadata": {
    "ExecuteTime": {
     "end_time": "2025-05-13T04:29:29.397985Z",
     "start_time": "2025-05-13T04:29:29.395661Z"
    }
   },
   "cell_type": "code",
   "source": [
    "def combined_mse_cosine_loss(y_true, y_pred):\n",
    "    mse = tf.reduce_mean(tf.square(y_true - y_pred))\n",
    "    y_true_norm = tf.nn.l2_normalize(y_true, axis=1)\n",
    "    y_pred_norm = tf.nn.l2_normalize(y_pred, axis=1)\n",
    "    cosine_loss = 1 - tf.reduce_mean(tf.reduce_sum(y_true_norm * y_pred_norm, axis=1))\n",
    "    return mse + 0.3 * cosine_loss"
   ],
   "id": "e2473d86804ccffa",
   "outputs": [],
   "execution_count": 19
  },
  {
   "metadata": {
    "ExecuteTime": {
     "end_time": "2025-05-13T04:39:33.171093Z",
     "start_time": "2025-05-13T04:29:29.446434Z"
    }
   },
   "cell_type": "code",
   "source": [
    "# Build model\n",
    "clear_session()\n",
    "base_model = ResNet50(weights='imagenet', include_top=False, input_shape=(int(984 / 3), int(2385 / 3), 3))\n",
    "model = models.Sequential([\n",
    "    base_model,\n",
    "    layers.GlobalAveragePooling2D(),\n",
    "    layers.Dense(256, activation='relu'),\n",
    "    layers.Dropout(0.3),\n",
    "    layers.Dense(8, activation='linear')\n",
    "])\n",
    "\n",
    "base_model.trainable = False\n",
    "model.compile(optimizer='adam', loss=combined_mse_cosine_loss, metrics=['mae'])\n",
    "model.summary()\n",
    "\n",
    "try:\n",
    "    with tf.device('/device:GPU:0'):\n",
    "        model.fit(train_dataset, validation_data=val_dataset, epochs=5)\n",
    "except Exception as e:\n",
    "    print(f\"Training failed: {e}\")\n",
    "    exit(1)"
   ],
   "id": "2f731d553509cf3e",
   "outputs": [
    {
     "data": {
      "text/plain": [
       "\u001B[1mModel: \"sequential\"\u001B[0m\n"
      ],
      "text/html": [
       "<pre style=\"white-space:pre;overflow-x:auto;line-height:normal;font-family:Menlo,'DejaVu Sans Mono',consolas,'Courier New',monospace\"><span style=\"font-weight: bold\">Model: \"sequential\"</span>\n",
       "</pre>\n"
      ]
     },
     "metadata": {},
     "output_type": "display_data"
    },
    {
     "data": {
      "text/plain": [
       "┏━━━━━━━━━━━━━━━━━━━━━━━━━━━━━━━━━┳━━━━━━━━━━━━━━━━━━━━━━━━┳━━━━━━━━━━━━━━━┓\n",
       "┃\u001B[1m \u001B[0m\u001B[1mLayer (type)                   \u001B[0m\u001B[1m \u001B[0m┃\u001B[1m \u001B[0m\u001B[1mOutput Shape          \u001B[0m\u001B[1m \u001B[0m┃\u001B[1m \u001B[0m\u001B[1m      Param #\u001B[0m\u001B[1m \u001B[0m┃\n",
       "┡━━━━━━━━━━━━━━━━━━━━━━━━━━━━━━━━━╇━━━━━━━━━━━━━━━━━━━━━━━━╇━━━━━━━━━━━━━━━┩\n",
       "│ resnet50 (\u001B[38;5;33mFunctional\u001B[0m)           │ (\u001B[38;5;45mNone\u001B[0m, \u001B[38;5;34m11\u001B[0m, \u001B[38;5;34m25\u001B[0m, \u001B[38;5;34m2048\u001B[0m)   │    \u001B[38;5;34m23,587,712\u001B[0m │\n",
       "├─────────────────────────────────┼────────────────────────┼───────────────┤\n",
       "│ global_average_pooling2d        │ (\u001B[38;5;45mNone\u001B[0m, \u001B[38;5;34m2048\u001B[0m)           │             \u001B[38;5;34m0\u001B[0m │\n",
       "│ (\u001B[38;5;33mGlobalAveragePooling2D\u001B[0m)        │                        │               │\n",
       "├─────────────────────────────────┼────────────────────────┼───────────────┤\n",
       "│ dense (\u001B[38;5;33mDense\u001B[0m)                   │ (\u001B[38;5;45mNone\u001B[0m, \u001B[38;5;34m256\u001B[0m)            │       \u001B[38;5;34m524,544\u001B[0m │\n",
       "├─────────────────────────────────┼────────────────────────┼───────────────┤\n",
       "│ dropout (\u001B[38;5;33mDropout\u001B[0m)               │ (\u001B[38;5;45mNone\u001B[0m, \u001B[38;5;34m256\u001B[0m)            │             \u001B[38;5;34m0\u001B[0m │\n",
       "├─────────────────────────────────┼────────────────────────┼───────────────┤\n",
       "│ dense_1 (\u001B[38;5;33mDense\u001B[0m)                 │ (\u001B[38;5;45mNone\u001B[0m, \u001B[38;5;34m8\u001B[0m)              │         \u001B[38;5;34m2,056\u001B[0m │\n",
       "└─────────────────────────────────┴────────────────────────┴───────────────┘\n"
      ],
      "text/html": [
       "<pre style=\"white-space:pre;overflow-x:auto;line-height:normal;font-family:Menlo,'DejaVu Sans Mono',consolas,'Courier New',monospace\">┏━━━━━━━━━━━━━━━━━━━━━━━━━━━━━━━━━┳━━━━━━━━━━━━━━━━━━━━━━━━┳━━━━━━━━━━━━━━━┓\n",
       "┃<span style=\"font-weight: bold\"> Layer (type)                    </span>┃<span style=\"font-weight: bold\"> Output Shape           </span>┃<span style=\"font-weight: bold\">       Param # </span>┃\n",
       "┡━━━━━━━━━━━━━━━━━━━━━━━━━━━━━━━━━╇━━━━━━━━━━━━━━━━━━━━━━━━╇━━━━━━━━━━━━━━━┩\n",
       "│ resnet50 (<span style=\"color: #0087ff; text-decoration-color: #0087ff\">Functional</span>)           │ (<span style=\"color: #00d7ff; text-decoration-color: #00d7ff\">None</span>, <span style=\"color: #00af00; text-decoration-color: #00af00\">11</span>, <span style=\"color: #00af00; text-decoration-color: #00af00\">25</span>, <span style=\"color: #00af00; text-decoration-color: #00af00\">2048</span>)   │    <span style=\"color: #00af00; text-decoration-color: #00af00\">23,587,712</span> │\n",
       "├─────────────────────────────────┼────────────────────────┼───────────────┤\n",
       "│ global_average_pooling2d        │ (<span style=\"color: #00d7ff; text-decoration-color: #00d7ff\">None</span>, <span style=\"color: #00af00; text-decoration-color: #00af00\">2048</span>)           │             <span style=\"color: #00af00; text-decoration-color: #00af00\">0</span> │\n",
       "│ (<span style=\"color: #0087ff; text-decoration-color: #0087ff\">GlobalAveragePooling2D</span>)        │                        │               │\n",
       "├─────────────────────────────────┼────────────────────────┼───────────────┤\n",
       "│ dense (<span style=\"color: #0087ff; text-decoration-color: #0087ff\">Dense</span>)                   │ (<span style=\"color: #00d7ff; text-decoration-color: #00d7ff\">None</span>, <span style=\"color: #00af00; text-decoration-color: #00af00\">256</span>)            │       <span style=\"color: #00af00; text-decoration-color: #00af00\">524,544</span> │\n",
       "├─────────────────────────────────┼────────────────────────┼───────────────┤\n",
       "│ dropout (<span style=\"color: #0087ff; text-decoration-color: #0087ff\">Dropout</span>)               │ (<span style=\"color: #00d7ff; text-decoration-color: #00d7ff\">None</span>, <span style=\"color: #00af00; text-decoration-color: #00af00\">256</span>)            │             <span style=\"color: #00af00; text-decoration-color: #00af00\">0</span> │\n",
       "├─────────────────────────────────┼────────────────────────┼───────────────┤\n",
       "│ dense_1 (<span style=\"color: #0087ff; text-decoration-color: #0087ff\">Dense</span>)                 │ (<span style=\"color: #00d7ff; text-decoration-color: #00d7ff\">None</span>, <span style=\"color: #00af00; text-decoration-color: #00af00\">8</span>)              │         <span style=\"color: #00af00; text-decoration-color: #00af00\">2,056</span> │\n",
       "└─────────────────────────────────┴────────────────────────┴───────────────┘\n",
       "</pre>\n"
      ]
     },
     "metadata": {},
     "output_type": "display_data"
    },
    {
     "data": {
      "text/plain": [
       "\u001B[1m Total params: \u001B[0m\u001B[38;5;34m24,114,312\u001B[0m (91.99 MB)\n"
      ],
      "text/html": [
       "<pre style=\"white-space:pre;overflow-x:auto;line-height:normal;font-family:Menlo,'DejaVu Sans Mono',consolas,'Courier New',monospace\"><span style=\"font-weight: bold\"> Total params: </span><span style=\"color: #00af00; text-decoration-color: #00af00\">24,114,312</span> (91.99 MB)\n",
       "</pre>\n"
      ]
     },
     "metadata": {},
     "output_type": "display_data"
    },
    {
     "data": {
      "text/plain": [
       "\u001B[1m Trainable params: \u001B[0m\u001B[38;5;34m526,600\u001B[0m (2.01 MB)\n"
      ],
      "text/html": [
       "<pre style=\"white-space:pre;overflow-x:auto;line-height:normal;font-family:Menlo,'DejaVu Sans Mono',consolas,'Courier New',monospace\"><span style=\"font-weight: bold\"> Trainable params: </span><span style=\"color: #00af00; text-decoration-color: #00af00\">526,600</span> (2.01 MB)\n",
       "</pre>\n"
      ]
     },
     "metadata": {},
     "output_type": "display_data"
    },
    {
     "data": {
      "text/plain": [
       "\u001B[1m Non-trainable params: \u001B[0m\u001B[38;5;34m23,587,712\u001B[0m (89.98 MB)\n"
      ],
      "text/html": [
       "<pre style=\"white-space:pre;overflow-x:auto;line-height:normal;font-family:Menlo,'DejaVu Sans Mono',consolas,'Courier New',monospace\"><span style=\"font-weight: bold\"> Non-trainable params: </span><span style=\"color: #00af00; text-decoration-color: #00af00\">23,587,712</span> (89.98 MB)\n",
       "</pre>\n"
      ]
     },
     "metadata": {},
     "output_type": "display_data"
    },
    {
     "name": "stdout",
     "output_type": "stream",
     "text": [
      "Epoch 1/5\n",
      "\u001B[1m2625/2625\u001B[0m \u001B[32m━━━━━━━━━━━━━━━━━━━━\u001B[0m\u001B[37m\u001B[0m \u001B[1m127s\u001B[0m 47ms/step - loss: 0.1516 - mae: 0.2327 - val_loss: 0.1069 - val_mae: 0.1881\n",
      "Epoch 2/5\n",
      "\u001B[1m2625/2625\u001B[0m \u001B[32m━━━━━━━━━━━━━━━━━━━━\u001B[0m\u001B[37m\u001B[0m \u001B[1m120s\u001B[0m 46ms/step - loss: 0.0771 - mae: 0.1681 - val_loss: 0.1218 - val_mae: 0.2005\n",
      "Epoch 3/5\n",
      "\u001B[1m2625/2625\u001B[0m \u001B[32m━━━━━━━━━━━━━━━━━━━━\u001B[0m\u001B[37m\u001B[0m \u001B[1m120s\u001B[0m 46ms/step - loss: 0.0752 - mae: 0.1660 - val_loss: 0.1168 - val_mae: 0.1940\n",
      "Epoch 4/5\n",
      "\u001B[1m2625/2625\u001B[0m \u001B[32m━━━━━━━━━━━━━━━━━━━━\u001B[0m\u001B[37m\u001B[0m \u001B[1m118s\u001B[0m 45ms/step - loss: 0.0753 - mae: 0.1661 - val_loss: 0.1310 - val_mae: 0.2068\n",
      "Epoch 5/5\n",
      "\u001B[1m2625/2625\u001B[0m \u001B[32m━━━━━━━━━━━━━━━━━━━━\u001B[0m\u001B[37m\u001B[0m \u001B[1m117s\u001B[0m 45ms/step - loss: 0.0757 - mae: 0.1665 - val_loss: 0.1326 - val_mae: 0.2081\n"
     ]
    }
   ],
   "execution_count": 20
  },
  {
   "metadata": {
    "ExecuteTime": {
     "end_time": "2025-05-13T05:10:59.787190Z",
     "start_time": "2025-05-13T04:39:33.238597Z"
    }
   },
   "cell_type": "code",
   "source": [
    "base_model.trainable = True\n",
    "for layer in base_model.layers[:100]:\n",
    "    layer.trainable = False  # Keep early layers frozen\n",
    "model.compile(optimizer=tf.keras.optimizers.Adam(1e-5), loss=combined_mse_cosine_loss, metrics=['mae'])\n",
    "\n",
    "try:\n",
    "    with tf.device('/device:GPU:0'):\n",
    "        model.fit(train_dataset, validation_data=val_dataset, epochs=10)\n",
    "except Exception as e:\n",
    "    print(f\"Training failed: {e}\")\n",
    "    exit(1)"
   ],
   "id": "d7571578bded608e",
   "outputs": [
    {
     "name": "stdout",
     "output_type": "stream",
     "text": [
      "Epoch 1/10\n",
      "\u001B[1m2625/2625\u001B[0m \u001B[32m━━━━━━━━━━━━━━━━━━━━\u001B[0m\u001B[37m\u001B[0m \u001B[1m205s\u001B[0m 73ms/step - loss: 0.0836 - mae: 0.1758 - val_loss: 0.1290 - val_mae: 0.2006\n",
      "Epoch 2/10\n",
      "\u001B[1m2625/2625\u001B[0m \u001B[32m━━━━━━━━━━━━━━━━━━━━\u001B[0m\u001B[37m\u001B[0m \u001B[1m188s\u001B[0m 72ms/step - loss: 0.0702 - mae: 0.1619 - val_loss: 0.1197 - val_mae: 0.1928\n",
      "Epoch 3/10\n",
      "\u001B[1m2625/2625\u001B[0m \u001B[32m━━━━━━━━━━━━━━━━━━━━\u001B[0m\u001B[37m\u001B[0m \u001B[1m191s\u001B[0m 73ms/step - loss: 0.0618 - mae: 0.1522 - val_loss: 0.1183 - val_mae: 0.1904\n",
      "Epoch 4/10\n",
      "\u001B[1m2625/2625\u001B[0m \u001B[32m━━━━━━━━━━━━━━━━━━━━\u001B[0m\u001B[37m\u001B[0m \u001B[1m184s\u001B[0m 70ms/step - loss: 0.0576 - mae: 0.1465 - val_loss: 0.1123 - val_mae: 0.1868\n",
      "Epoch 5/10\n",
      "\u001B[1m2625/2625\u001B[0m \u001B[32m━━━━━━━━━━━━━━━━━━━━\u001B[0m\u001B[37m\u001B[0m \u001B[1m187s\u001B[0m 71ms/step - loss: 0.0528 - mae: 0.1402 - val_loss: 0.1066 - val_mae: 0.1806\n",
      "Epoch 6/10\n",
      "\u001B[1m2625/2625\u001B[0m \u001B[32m━━━━━━━━━━━━━━━━━━━━\u001B[0m\u001B[37m\u001B[0m \u001B[1m187s\u001B[0m 71ms/step - loss: 0.0499 - mae: 0.1359 - val_loss: 0.1020 - val_mae: 0.1755\n",
      "Epoch 7/10\n",
      "\u001B[1m2625/2625\u001B[0m \u001B[32m━━━━━━━━━━━━━━━━━━━━\u001B[0m\u001B[37m\u001B[0m \u001B[1m188s\u001B[0m 71ms/step - loss: 0.0480 - mae: 0.1330 - val_loss: 0.1025 - val_mae: 0.1759\n",
      "Epoch 8/10\n",
      "\u001B[1m2625/2625\u001B[0m \u001B[32m━━━━━━━━━━━━━━━━━━━━\u001B[0m\u001B[37m\u001B[0m \u001B[1m185s\u001B[0m 70ms/step - loss: 0.0464 - mae: 0.1302 - val_loss: 0.0983 - val_mae: 0.1720\n",
      "Epoch 9/10\n",
      "\u001B[1m2625/2625\u001B[0m \u001B[32m━━━━━━━━━━━━━━━━━━━━\u001B[0m\u001B[37m\u001B[0m \u001B[1m186s\u001B[0m 71ms/step - loss: 0.0440 - mae: 0.1267 - val_loss: 0.1060 - val_mae: 0.1769\n",
      "Epoch 10/10\n",
      "\u001B[1m2625/2625\u001B[0m \u001B[32m━━━━━━━━━━━━━━━━━━━━\u001B[0m\u001B[37m\u001B[0m \u001B[1m186s\u001B[0m 71ms/step - loss: 0.0419 - mae: 0.1236 - val_loss: 0.1085 - val_mae: 0.1782\n"
     ]
    }
   ],
   "execution_count": 21
  },
  {
   "metadata": {
    "ExecuteTime": {
     "end_time": "2025-05-13T05:12:09.468602Z",
     "start_time": "2025-05-13T05:10:59.860978Z"
    }
   },
   "cell_type": "code",
   "source": [
    "# Save results\n",
    "y_test = []\n",
    "y_pred = []\n",
    "for images, batch_labels in tqdm(val_dataset):\n",
    "    y_test.append(batch_labels.numpy())\n",
    "    y_pred.append(model.predict(images, verbose=0))\n",
    "y_test = np.concatenate(y_test, axis=0)\n",
    "y_pred = np.concatenate(y_pred, axis=0)\n",
    "\n",
    "# Create data frame with interleaved y_test and y_pred columns\n",
    "data = {}\n",
    "for i in range(y_test.shape[1]):\n",
    "    data[f'y_test_{i}'] = y_test[:, i]\n",
    "    data[f'y_pred_{i}'] = y_pred[:, i]\n",
    "df = pd.DataFrame(data)\n",
    "df.to_csv(\"data/evaluate.csv\", index=False)\n",
    "\n",
    "# Report MSE\n",
    "mse = mean_squared_error(y_test, y_pred)\n",
    "print(f\"Mean squared error: {mse}\")"
   ],
   "id": "f6c4c2014a8d0b93",
   "outputs": [
    {
     "name": "stderr",
     "output_type": "stream",
     "text": [
      "100%|█████████▉| 656/657 [01:07<00:00, 15.72it/s] 2025-05-13 01:12:09.425915: I tensorflow/core/framework/local_rendezvous.cc:407] Local rendezvous is aborting with status: OUT_OF_RANGE: End of sequence\n",
      "100%|██████████| 657/657 [01:09<00:00,  9.44it/s]"
     ]
    },
    {
     "name": "stdout",
     "output_type": "stream",
     "text": [
      "Mean squared error: 0.06595480547465296\n"
     ]
    },
    {
     "name": "stderr",
     "output_type": "stream",
     "text": [
      "\n"
     ]
    }
   ],
   "execution_count": 22
  },
  {
   "metadata": {
    "ExecuteTime": {
     "end_time": "2025-05-13T05:12:10.646127Z",
     "start_time": "2025-05-13T05:12:09.501760Z"
    }
   },
   "cell_type": "code",
   "source": [
    "# Save the model\n",
    "model.save(\"models/resnet50.keras\")"
   ],
   "id": "2e6f3fc9441def8e",
   "outputs": [],
   "execution_count": 23
  },
  {
   "metadata": {
    "ExecuteTime": {
     "end_time": "2025-05-13T05:12:10.659622Z",
     "start_time": "2025-05-13T05:12:10.657973Z"
    }
   },
   "cell_type": "code",
   "source": "",
   "id": "462b178d0277d865",
   "outputs": [],
   "execution_count": null
  }
 ],
 "metadata": {
  "kernelspec": {
   "display_name": "Python 3",
   "language": "python",
   "name": "python3"
  },
  "language_info": {
   "codemirror_mode": {
    "name": "ipython",
    "version": 2
   },
   "file_extension": ".py",
   "mimetype": "text/x-python",
   "name": "python",
   "nbconvert_exporter": "python",
   "pygments_lexer": "ipython2",
   "version": "2.7.6"
  }
 },
 "nbformat": 4,
 "nbformat_minor": 5
}
