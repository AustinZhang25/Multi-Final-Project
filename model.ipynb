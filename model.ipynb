{
 "cells": [
  {
   "cell_type": "code",
   "id": "initial_id",
   "metadata": {
    "collapsed": true
   },
   "source": [
    "import os\n",
    "from tqdm import tqdm\n",
    "import numpy as np\n",
    "import tensorflow as tf\n",
    "from pathlib import Path\n",
    "import pandas as pd\n",
    "from tensorflow.keras import layers, models\n",
    "from tensorflow.keras.applications import ResNet50\n",
    "from sklearn.metrics import mean_squared_error\n",
    "from tensorflow.keras.backend import clear_session"
   ],
   "outputs": [],
   "execution_count": null
  },
  {
   "metadata": {},
   "cell_type": "code",
   "source": [
    "# Clear any previous session\n",
    "clear_session()"
   ],
   "id": "312d6879e9db09ba",
   "outputs": [],
   "execution_count": null
  },
  {
   "metadata": {},
   "cell_type": "code",
   "source": [
    "# Import labels\n",
    "labels_data = pd.read_csv('data/echonest_norm.csv').values\n",
    "print(f\"Label shape: {labels_data.shape}\")"
   ],
   "id": "38afcfb4fa61d4b",
   "outputs": [],
   "execution_count": null
  },
  {
   "metadata": {},
   "cell_type": "code",
   "source": [
    "def attach_label(image_path):\n",
    "    try:\n",
    "        image_id = int(image_path.split(\"/\")[-1].split(\"_\")[0])\n",
    "        label = labels_data[labels_data[:, 0] == image_id, 1:]\n",
    "        if label.shape[0] == 0:\n",
    "            print(f\"No label found for image {image_id}\")\n",
    "            return None\n",
    "        return image_path, label.reshape(-1)\n",
    "    except Exception as e:\n",
    "        print(f\"Error with {image_path}: {e}\")\n",
    "        return None"
   ],
   "id": "f1eebb053d475ade",
   "outputs": [],
   "execution_count": null
  },
  {
   "metadata": {},
   "cell_type": "code",
   "source": [
    "# Load image paths and labels\n",
    "data_path = Path(\"spectrogram\")\n",
    "all_image_paths = sorted(map(str, data_path.glob(\"**/*.png\")))\n",
    "valid_pairs = list(filter(None, map(attach_label, all_image_paths)))\n",
    "\n",
    "if len(valid_pairs) == 0:\n",
    "    raise ValueError(\"No valid image-label pairs found!\")\n",
    "\n",
    "data_paths, labels = zip(*valid_pairs)"
   ],
   "id": "e2d45aa44a4f35b5",
   "outputs": [],
   "execution_count": null
  },
  {
   "metadata": {},
   "cell_type": "code",
   "source": [
    "def load_image(image_path, label):\n",
    "    image = tf.io.read_file(image_path)\n",
    "    image = tf.image.decode_png(image, channels=3)\n",
    "    image = tf.image.resize(image, (int(984 / 3), int(2385 / 3)))\n",
    "    image = tf.keras.applications.resnet50.preprocess_input(image)\n",
    "    return image, label\n",
    "\n",
    "# Create dataset\n",
    "dataset = tf.data.Dataset.from_tensor_slices((list(data_paths), list(labels)))\n",
    "dataset = dataset.map(load_image, num_parallel_calls=tf.data.AUTOTUNE)\n",
    "\n",
    "# Shuffle and split dataset\n",
    "train_size = int(0.8 * len(data_paths))\n",
    "train_dataset = dataset.take(train_size).batch(4).prefetch(tf.data.AUTOTUNE)\n",
    "val_dataset = dataset.skip(train_size).batch(4).prefetch(tf.data.AUTOTUNE)"
   ],
   "id": "5c54bb6145074939",
   "outputs": [],
   "execution_count": null
  },
  {
   "metadata": {},
   "cell_type": "code",
   "source": [
    "# Build model\n",
    "clear_session()\n",
    "base_model = ResNet50(weights=None, include_top=False, input_shape=(int(984 / 3), int(2385 / 3), 3))\n",
    "model = models.Sequential([\n",
    "    base_model,\n",
    "    layers.GlobalAveragePooling2D(),\n",
    "    layers.Dense(256, activation='relu'),\n",
    "    layers.Dropout(0.3),\n",
    "    layers.Dense(8, activation='linear')\n",
    "])\n",
    "model.compile(optimizer='adam', loss='mse', metrics=['mae'])\n",
    "model.summary()"
   ],
   "id": "2f731d553509cf3e",
   "outputs": [],
   "execution_count": null
  },
  {
   "metadata": {
    "jupyter": {
     "is_executing": true
    }
   },
   "cell_type": "code",
   "source": [
    "try:\n",
    "    with tf.device('/device:GPU:0'):\n",
    "        model.fit(train_dataset, epochs=20, validation_data=val_dataset)\n",
    "except Exception as e:\n",
    "    print(f\"Training failed: {e}\")\n",
    "    exit(1)"
   ],
   "id": "d7571578bded608e",
   "outputs": [],
   "execution_count": null
  },
  {
   "metadata": {},
   "cell_type": "code",
   "source": [
    "# Save results\n",
    "y_test = []\n",
    "y_pred = []\n",
    "for images, batch_labels in tqdm(val_dataset):\n",
    "    y_test.append(batch_labels.numpy())\n",
    "    y_pred.append(model.predict(images))\n",
    "y_test = np.concatenate(y_test, axis=0)\n",
    "y_pred = np.concatenate(y_pred, axis=0)\n",
    "\n",
    "df = pd.DataFrame({\n",
    "    **{f'y_test_{i}': y_test[:, i] for i in range(y_test.shape[1])},\n",
    "    **{f'y_pred_{i}': y_pred[:, i] for i in range(y_pred.shape[1])}\n",
    "})\n",
    "df.to_csv(\"data/evaluate.csv\", index=False)\n",
    "\n",
    "# Report MSE\n",
    "mse = mean_squared_error(y_test, y_pred)\n",
    "print(f\"Mean squared error: {mse}\")"
   ],
   "id": "f6c4c2014a8d0b93",
   "outputs": [],
   "execution_count": null
  }
 ],
 "metadata": {
  "kernelspec": {
   "display_name": "Python 3",
   "language": "python",
   "name": "python3"
  },
  "language_info": {
   "codemirror_mode": {
    "name": "ipython",
    "version": 2
   },
   "file_extension": ".py",
   "mimetype": "text/x-python",
   "name": "python",
   "nbconvert_exporter": "python",
   "pygments_lexer": "ipython2",
   "version": "2.7.6"
  }
 },
 "nbformat": 4,
 "nbformat_minor": 5
}
